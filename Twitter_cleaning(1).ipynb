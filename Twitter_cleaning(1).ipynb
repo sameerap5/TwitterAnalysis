{
 "cells": [
  {
   "cell_type": "code",
   "execution_count": 1,
   "metadata": {
    "collapsed": false
   },
   "outputs": [
    {
     "ename": "ModuleNotFoundError",
     "evalue": "No module named 'preprocessor'",
     "output_type": "error",
     "traceback": [
      "\u001b[0;31m---------------------------------------------------------------------------\u001b[0m",
      "\u001b[0;31mModuleNotFoundError\u001b[0m                       Traceback (most recent call last)",
      "\u001b[0;32m<ipython-input-1-fcef5ec5dfef>\u001b[0m in \u001b[0;36m<module>\u001b[0;34m()\u001b[0m\n\u001b[0;32m----> 1\u001b[0;31m \u001b[1;32mimport\u001b[0m \u001b[0mpreprocessor\u001b[0m \u001b[1;32mas\u001b[0m \u001b[0mp\u001b[0m\u001b[1;33m\u001b[0m\u001b[0m\n\u001b[0m\u001b[1;32m      2\u001b[0m \u001b[1;32mimport\u001b[0m \u001b[0mpandas\u001b[0m \u001b[1;32mas\u001b[0m \u001b[0mpd\u001b[0m\u001b[1;33m\u001b[0m\u001b[0m\n\u001b[1;32m      3\u001b[0m \u001b[1;32mimport\u001b[0m \u001b[0mre\u001b[0m\u001b[1;33m\u001b[0m\u001b[0m\n",
      "\u001b[0;31mModuleNotFoundError\u001b[0m: No module named 'preprocessor'"
     ]
    }
   ],
   "source": [
    "import preprocessor as p\n",
    "import pandas as pd\n",
    "import re"
   ]
  },
  {
   "cell_type": "code",
   "execution_count": 2,
   "metadata": {
    "collapsed": true
   },
   "outputs": [],
   "source": [
    "tweets = pd.read_csv('/Users/vamsi_5/Downloads/Updated List.csv')"
   ]
  },
  {
   "cell_type": "code",
   "execution_count": 3,
   "metadata": {
    "collapsed": false
   },
   "outputs": [
    {
     "data": {
      "text/plain": [
       "0    @VZWSupport Give me a working phone without ha...\n",
       "1    @verizon, my daughter and I both have #Verizon...\n",
       "2    Verizon  customer service is the worst. I drea...\n",
       "3    I love having Verizon. I get service just abou...\n",
       "4    Great service from @VZWSupport and @SamsungSup...\n",
       "5    Verizon charged my account twice now telling m...\n",
       "6    LG U IS Ass af and I can’t wait to get back on...\n",
       "7    Verizon has the best customer service ngl. I’v...\n",
       "8    @VZWNow @TheeonlyJL Hey Verizon my ATT interne...\n",
       "9    @BrockLesnarGuy @TMobile Verizon will never le...\n",
       "Name: text, dtype: object"
      ]
     },
     "execution_count": 3,
     "metadata": {},
     "output_type": "execute_result"
    }
   ],
   "source": [
    "tweets['text'].head(10)"
   ]
  },
  {
   "cell_type": "code",
   "execution_count": 4,
   "metadata": {
    "collapsed": true
   },
   "outputs": [],
   "source": [
    "a = tweets['text']"
   ]
  },
  {
   "cell_type": "code",
   "execution_count": 5,
   "metadata": {
    "collapsed": true
   },
   "outputs": [],
   "source": [
    "cleaned_tweets=[]\n",
    "tokenized_tweets=[]\n",
    "\n",
    "for i in range(0,len(a)):\n",
    "        cleaned_tweets.append(p.clean(a[i]))\n",
    "        tokenized_tweets.append(p.tokenize(cleaned_tweets[i]))"
   ]
  },
  {
   "cell_type": "code",
   "execution_count": 18,
   "metadata": {
    "collapsed": false
   },
   "outputs": [
    {
     "data": {
      "text/plain": [
       "['Verizon charged my account twice now telling me I have to wait a week to get my money back Y’all are messing with my budget',\n",
       " 'LG U IS Ass af and I can’t wait to get back on Verizon so I can be happy again. I can’t wait to get back to America PERIODT',\n",
       " 'Verizon has the best customer service ngl. I’ve literally had every phone company out here and theirs weirdly amazing',\n",
       " 'Hey Verizon my ATT internet is horrible, it’s been horrible for years and a lot. We have a family phone plan with Verizon can you hook it up?',\n",
       " 'Verizon will never let u down Always hear ppl telling me to switch to them but stories like this help me stay',\n",
       " 'We used to have Verizon and it sucked, that’s why we went to metro, but I upgraded to T-Mobile']"
      ]
     },
     "execution_count": 18,
     "metadata": {},
     "output_type": "execute_result"
    }
   ],
   "source": [
    "cleaned_tweets[5:11]"
   ]
  },
  {
   "cell_type": "code",
   "execution_count": 17,
   "metadata": {
    "collapsed": false
   },
   "outputs": [
    {
     "data": {
      "text/plain": [
       "['Verizon charged my account twice now telling me I have to wait a week to get my money back Y’all are messing with my budget',\n",
       " 'LG U IS Ass af and I can’t wait to get back on Verizon so I can be happy again. I can’t wait to get back to America PERIODT',\n",
       " 'Verizon has the best customer service ngl. I’ve literally had every phone company out here and theirs weirdly amazing',\n",
       " 'Hey Verizon my ATT internet is horrible, it’s been horrible for years and a lot. We have a family phone plan with Verizon can you hook it up?',\n",
       " 'Verizon will never let u down Always hear ppl telling me to switch to them but stories like this help me stay',\n",
       " 'We used to have Verizon and it sucked, that’s why we went to metro, but I upgraded to T-Mobile']"
      ]
     },
     "execution_count": 17,
     "metadata": {},
     "output_type": "execute_result"
    }
   ],
   "source": [
    "tokenized_tweets[5:11]"
   ]
  },
  {
   "cell_type": "code",
   "execution_count": 14,
   "metadata": {
    "collapsed": true
   },
   "outputs": [],
   "source": [
    "import emoji\n",
    "\n",
    "def extract_emojis(str):\n",
    "      return ''.join(c for c in str if c in emoji.UNICODE_EMOJI)"
   ]
  },
  {
   "cell_type": "code",
   "execution_count": 8,
   "metadata": {
    "collapsed": true
   },
   "outputs": [],
   "source": [
    "emojis=[]\n",
    "for i in range(0,len(cleaned_tweets)):\n",
    "    emojis.append(extract_emojis(cleaned_tweets[i]))"
   ]
  },
  {
   "cell_type": "code",
   "execution_count": 12,
   "metadata": {
    "collapsed": false
   },
   "outputs": [
    {
     "data": {
      "text/plain": [
       "['🤦🤷',\n",
       " '🤷',\n",
       " '🤷',\n",
       " '🤣',\n",
       " '\\U0001f92e\\U0001f92e',\n",
       " '🤦',\n",
       " '🤔🤔🤔',\n",
       " '🤦',\n",
       " '🤔',\n",
       " '🤚',\n",
       " '🤦',\n",
       " '🤷',\n",
       " '\\U0001f928\\U0001f9d0',\n",
       " '🤓']"
      ]
     },
     "execution_count": 12,
     "metadata": {},
     "output_type": "execute_result"
    }
   ],
   "source": [
    "emojis = list(filter(None, emojis))\n",
    "emojis"
   ]
  },
  {
   "cell_type": "code",
   "execution_count": 10,
   "metadata": {
    "collapsed": false
   },
   "outputs": [
    {
     "name": "stdout",
     "output_type": "stream",
     "text": [
      "b'\\xf0\\x9f\\xa4\\xa6\\xf0\\x9f\\xa4\\xb7'\n",
      "b'\\xf0\\x9f\\xa4\\xb7'\n",
      "b'\\xf0\\x9f\\xa4\\xb7'\n",
      "b'\\xf0\\x9f\\xa4\\xa3'\n",
      "b'\\xf0\\x9f\\xa4\\xae\\xf0\\x9f\\xa4\\xae'\n",
      "b'\\xf0\\x9f\\xa4\\xa6'\n",
      "b'\\xf0\\x9f\\xa4\\x94\\xf0\\x9f\\xa4\\x94\\xf0\\x9f\\xa4\\x94'\n",
      "b'\\xf0\\x9f\\xa4\\xa6'\n",
      "b'\\xf0\\x9f\\xa4\\x94'\n",
      "b'\\xf0\\x9f\\xa4\\x9a'\n",
      "b'\\xf0\\x9f\\xa4\\xa6'\n",
      "b'\\xf0\\x9f\\xa4\\xb7'\n",
      "b'\\xf0\\x9f\\xa4\\xa8\\xf0\\x9f\\xa7\\x90'\n",
      "b'\\xf0\\x9f\\xa4\\x93'\n"
     ]
    }
   ],
   "source": [
    "for i in emojis:\n",
    "    print(i.encode('utf-8'))"
   ]
  },
  {
   "cell_type": "code",
   "execution_count": 11,
   "metadata": {
    "collapsed": false
   },
   "outputs": [
    {
     "ename": "SyntaxError",
     "evalue": "cannot mix bytes and nonbytes literals (<ipython-input-11-a7f0c67718f3>, line 6)",
     "output_type": "error",
     "traceback": [
      "\u001b[0;36m  File \u001b[0;32m\"<ipython-input-11-a7f0c67718f3>\"\u001b[0;36m, line \u001b[0;32m6\u001b[0m\n\u001b[0;31m    emoji_pattern = re.compile(\"[\"\u001b[0m\n\u001b[0m                              ^\u001b[0m\n\u001b[0;31mSyntaxError\u001b[0m\u001b[0;31m:\u001b[0m cannot mix bytes and nonbytes literals\n"
     ]
    }
   ],
   "source": [
    "import re\n",
    "\n",
    "text = cleaned_tweets[454]\n",
    "print(text) # with emoji\n",
    "\n",
    "emoji_pattern = re.compile(\"[\"\n",
    "        b\"\\xf0\\x9f\\xa4\\xb7\"\n",
    "        b\"\\xf0\\x9f\\xa4\\xb7\"\n",
    "        b\"\\xf0\\x9f\\xa4\\xa3\"\n",
    "        b\"\\xf0\\x9f\\xa4\\xa6\"\n",
    "        b\"\\xf0\\x9f\\xa4\\xa6\"\n",
    "        b\"\\xf0\\x9f\\xa4\\x94\"\n",
    "        b\"\\xf0\\x9f\\xa4\\x9a\"\n",
    "        b\"\\xf0\\x9f\\xa4\\xa6\"\n",
    "        b\"\\xf0\\x9f\\xa4\\xb7\"\n",
    "        b\"\\xf0\\x9f\\xa4\\xa8\\xf0\\x9f\\xa7\\x90\"\n",
    "        b\"\\xf0\\x9f\\xa4\\x93\"\"]+\", flags=re.UNICODE)\n",
    "print(emoji_pattern.sub(r'', text)) "
   ]
  },
  {
   "cell_type": "code",
   "execution_count": null,
   "metadata": {
    "collapsed": true
   },
   "outputs": [],
   "source": [
    "#package in twitter no documented list\n",
    "import remove_emoji"
   ]
  }
 ],
 "metadata": {
  "kernelspec": {
   "display_name": "Python 3",
   "language": "python",
   "name": "python3"
  },
  "language_info": {
   "codemirror_mode": {
    "name": "ipython",
    "version": 3
   },
   "file_extension": ".py",
   "mimetype": "text/x-python",
   "name": "python",
   "nbconvert_exporter": "python",
   "pygments_lexer": "ipython3",
   "version": "3.6.0"
  }
 },
 "nbformat": 4,
 "nbformat_minor": 2
}
